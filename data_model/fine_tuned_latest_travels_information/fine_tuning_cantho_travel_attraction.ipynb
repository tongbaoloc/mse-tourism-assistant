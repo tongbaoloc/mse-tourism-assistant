{
 "cells": [
  {
   "cell_type": "code",
   "execution_count": 34,
   "metadata": {},
   "outputs": [],
   "source": [
    "import json\n",
    "import openai\n",
    "import os\n",
    "import pandas as pd\n",
    "from pprint import pprint\n",
    "\n",
    "os.environ[\"OPENAI_API_KEY\"] = \"sk-proj-Woh8SFgZ0Z2kVew3diIYT3BlbkFJSpojO8dFcZCX1Lu24XdP\"\n",
    "\n",
    "client = openai.OpenAI(api_key=os.environ.get(\"OPENAI_API_KEY\", \"<your OpenAI API key if not set as env var>\"))"
   ]
  },
  {
   "cell_type": "code",
   "execution_count": 52,
   "metadata": {},
   "outputs": [
    {
     "name": "stdout",
     "output_type": "stream",
     "text": [
      "Saved: data/CanTho_Tourist_Attractions.csv\n"
     ]
    }
   ],
   "source": [
    "import pandas as pd\n",
    "\n",
    "# Define the path to your Excel file\n",
    "excel_file_path = 'data/CanTho_Tourist_Attractions.xlsx'\n",
    "\n",
    "# Load the Excel file\n",
    "excel_data = pd.ExcelFile(excel_file_path)\n",
    "\n",
    "# Iterate through each sheet in the Excel file\n",
    "for sheet_name in excel_data.sheet_names:\n",
    "    # Read the sheet\n",
    "    data = pd.read_excel(excel_data, sheet_name=sheet_name)\n",
    "    \n",
    "    # Define the path to save the CSV file\n",
    "    csv_file_path = 'data/CanTho_Tourist_Attractions.csv'\n",
    "    \n",
    "    # Save the data to a CSV file, without the index column\n",
    "    data.to_csv(csv_file_path, index=False)\n",
    "\n",
    "    # Print the file path to confirm it's saved\n",
    "    print(f'Saved: {csv_file_path}')\n"
   ]
  },
  {
   "cell_type": "code",
   "execution_count": 53,
   "metadata": {},
   "outputs": [
    {
     "data": {
      "text/html": [
       "<div>\n",
       "<style scoped>\n",
       "    .dataframe tbody tr th:only-of-type {\n",
       "        vertical-align: middle;\n",
       "    }\n",
       "\n",
       "    .dataframe tbody tr th {\n",
       "        vertical-align: top;\n",
       "    }\n",
       "\n",
       "    .dataframe thead th {\n",
       "        text-align: right;\n",
       "    }\n",
       "</style>\n",
       "<table border=\"1\" class=\"dataframe\">\n",
       "  <thead>\n",
       "    <tr style=\"text-align: right;\">\n",
       "      <th></th>\n",
       "      <th>Question</th>\n",
       "      <th>Answer</th>\n",
       "      <th>Source</th>\n",
       "    </tr>\n",
       "  </thead>\n",
       "  <tbody>\n",
       "    <tr>\n",
       "      <th>0</th>\n",
       "      <td>About Can Tho, Vietnam</td>\n",
       "      <td>Nestled in the verdant embrace of the Mekong D...</td>\n",
       "      <td>https://vinpearl.com/en/can-tho-vietnam-the-ul...</td>\n",
       "    </tr>\n",
       "    <tr>\n",
       "      <th>1</th>\n",
       "      <td>How is Can Tho's weather? The best time to vis...</td>\n",
       "      <td>Can Tho is typical of a tropical climate with ...</td>\n",
       "      <td>https://vinpearl.com/en/can-tho-vietnam-the-ul...</td>\n",
       "    </tr>\n",
       "    <tr>\n",
       "      <th>2</th>\n",
       "      <td>Must-visit tourist attractions in Can Tho, Vie...</td>\n",
       "      <td>Cai Rang Floating Market\\nLocation: downstream...</td>\n",
       "      <td>https://vinpearl.com/en/can-tho-vietnam-the-ul...</td>\n",
       "    </tr>\n",
       "    <tr>\n",
       "      <th>3</th>\n",
       "      <td>How to get to Can Tho City, Vietnam?\\n</td>\n",
       "      <td>As an important industrial center of the Mekon...</td>\n",
       "      <td>https://vinpearl.com/en/can-tho-vietnam-the-ul...</td>\n",
       "    </tr>\n",
       "    <tr>\n",
       "      <th>4</th>\n",
       "      <td>Where to stay in Can Tho City?</td>\n",
       "      <td>Depending on preferences and budgets, visitors...</td>\n",
       "      <td>https://vinpearl.com/en/can-tho-vietnam-the-ul...</td>\n",
       "    </tr>\n",
       "  </tbody>\n",
       "</table>\n",
       "</div>"
      ],
      "text/plain": [
       "                                            Question  \\\n",
       "0                             About Can Tho, Vietnam   \n",
       "1  How is Can Tho's weather? The best time to vis...   \n",
       "2  Must-visit tourist attractions in Can Tho, Vie...   \n",
       "3             How to get to Can Tho City, Vietnam?\\n   \n",
       "4                     Where to stay in Can Tho City?   \n",
       "\n",
       "                                              Answer  \\\n",
       "0  Nestled in the verdant embrace of the Mekong D...   \n",
       "1  Can Tho is typical of a tropical climate with ...   \n",
       "2  Cai Rang Floating Market\\nLocation: downstream...   \n",
       "3  As an important industrial center of the Mekon...   \n",
       "4  Depending on preferences and budgets, visitors...   \n",
       "\n",
       "                                              Source  \n",
       "0  https://vinpearl.com/en/can-tho-vietnam-the-ul...  \n",
       "1  https://vinpearl.com/en/can-tho-vietnam-the-ul...  \n",
       "2  https://vinpearl.com/en/can-tho-vietnam-the-ul...  \n",
       "3  https://vinpearl.com/en/can-tho-vietnam-the-ul...  \n",
       "4  https://vinpearl.com/en/can-tho-vietnam-the-ul...  "
      ]
     },
     "execution_count": 53,
     "metadata": {},
     "output_type": "execute_result"
    }
   ],
   "source": [
    "recipe_df = pd.read_csv(\"data/CanTho_Tourist_Attractions.csv\")\n",
    "\n",
    "recipe_df.head()"
   ]
  },
  {
   "cell_type": "code",
   "execution_count": 54,
   "metadata": {},
   "outputs": [
    {
     "name": "stdout",
     "output_type": "stream",
     "text": [
      "{'messages': [{'role': 'system', 'content': 'You are an expert in providing travel assistance for Can Tho. Your role is to offer detailed information, tips, and guidance to travelers interested in exploring Can Tho, Vietnam. You provide insights into the best places to visit, local cuisine, cultural highlights, and practical travel advice to ensure visitors have a memorable and smooth experience in Can Tho.'}, {'role': 'user', 'content': 'Question: About Can Tho, Vietnam'}, {'role': 'assistant', 'content': \"Nestled in the verdant embrace of the Mekong Delta, Can Tho beckons travelers with a symphony of sights, sounds, and flavors that epitomize the essence of Vietnam. This enchanting city is a gateway to the region's rich cultural heritage and timeless traditions. The iconic floating market stands as a testament to the city's vibrant trading history, where boats laden with fresh fruits, vegetables, and handicrafts create a lively tapestry on the water. Beyond the market's bustling energy, Can Tho offers a serene escape into the countryside, where emerald rice paddies, charming villages, and ancient pagodas await exploration. From savoring the nuances of local cuisine to traversing the intricate network of canals, every moment in Can Tho unfolds as a captivating chapter in the story of Vietnam's captivating soul.\"}]}\n"
     ]
    }
   ],
   "source": [
    "training_data = []\n",
    "\n",
    "system_message = \"You are an expert in providing travel assistance for Can Tho. Your role is to offer detailed information, tips, and guidance to travelers interested in exploring Can Tho, Vietnam. You provide insights into the best places to visit, local cuisine, cultural highlights, and practical travel advice to ensure visitors have a memorable and smooth experience in Can Tho.\"\n",
    "\n",
    "def create_user_message(row):\n",
    "    return f\"\"\"Question: {row['Question']}\"\"\"\n",
    "\n",
    "def prepare_example_conversation(row):\n",
    "    messages = []\n",
    "    messages.append({\"role\": \"system\", \"content\": system_message})\n",
    "\n",
    "    user_message = create_user_message(row)\n",
    "    messages.append({\"role\": \"user\", \"content\": user_message})\n",
    "\n",
    "    messages.append({\"role\": \"assistant\", \"content\": row[\"Answer\"]})\n",
    "\n",
    "    return {\"messages\": messages}\n",
    "\n",
    "print(prepare_example_conversation(recipe_df.iloc[0]))"
   ]
  },
  {
   "cell_type": "code",
   "execution_count": 64,
   "metadata": {},
   "outputs": [
    {
     "name": "stdout",
     "output_type": "stream",
     "text": [
      "{'messages': [{'role': 'system', 'content': 'You are an expert in providing travel assistance for Can Tho. Your role is to offer detailed information, tips, and guidance to travelers interested in exploring Can Tho, Vietnam. You provide insights into the best places to visit, local cuisine, cultural highlights, and practical travel advice to ensure visitors have a memorable and smooth experience in Can Tho.'}, {'role': 'user', 'content': 'Question: About Can Tho, Vietnam'}, {'role': 'assistant', 'content': \"Nestled in the verdant embrace of the Mekong Delta, Can Tho beckons travelers with a symphony of sights, sounds, and flavors that epitomize the essence of Vietnam. This enchanting city is a gateway to the region's rich cultural heritage and timeless traditions. The iconic floating market stands as a testament to the city's vibrant trading history, where boats laden with fresh fruits, vegetables, and handicrafts create a lively tapestry on the water. Beyond the market's bustling energy, Can Tho offers a serene escape into the countryside, where emerald rice paddies, charming villages, and ancient pagodas await exploration. From savoring the nuances of local cuisine to traversing the intricate network of canals, every moment in Can Tho unfolds as a captivating chapter in the story of Vietnam's captivating soul.\"}]}\n",
      "{'messages': [{'role': 'system', 'content': 'You are an expert in providing travel assistance for Can Tho. Your role is to offer detailed information, tips, and guidance to travelers interested in exploring Can Tho, Vietnam. You provide insights into the best places to visit, local cuisine, cultural highlights, and practical travel advice to ensure visitors have a memorable and smooth experience in Can Tho.'}, {'role': 'user', 'content': \"Question: How is Can Tho's weather? The best time to visit Can Tho\"}, {'role': 'assistant', 'content': 'Can Tho is typical of a tropical climate with 2 seasons: the dry season from December to April and the wet season from May to November. With an average temperature of 28°C, the weather is warm and humid during the year. The city has a unique beauty in every season, thus visitors can travel to Can Tho at any time during the year.\\n\\nThe season of fruit ripening: Fruit is mostly ripe from June to August. If you travel to Can Tho during this time, you will have an opportunity to enjoy many kinds of ripe fruits right at the garden.\\nThe season of flooding water: The flooding season is from September to November. Water floods the rice paddy fields and weaves through canals and rivers, drawing a beautiful scenery. This is also the best time to visit Can Tho and the Southwest of Vietnam. \\nThe season of flowers: The period from December to January marks the coming of the Lunar New Year. Hence, Can Tho is overwhelmed with many brilliant colors of flowers during this time.'}]}\n",
      "{'messages': [{'role': 'system', 'content': 'You are an expert in providing travel assistance for Can Tho. Your role is to offer detailed information, tips, and guidance to travelers interested in exploring Can Tho, Vietnam. You provide insights into the best places to visit, local cuisine, cultural highlights, and practical travel advice to ensure visitors have a memorable and smooth experience in Can Tho.'}, {'role': 'user', 'content': 'Question: Must-visit tourist attractions in Can Tho, Vietnam'}, {'role': 'assistant', 'content': \"Cai Rang Floating Market\\nLocation: downstream of Can Tho River, 46 Hai Ba Trung, Ninh Kieu District, Can Tho, Vietnam\\n\\nWith a history of almost 100 years, Cai Rang Floating Market is one of the oldest cultural spots in the Mekong Delta region. It is also the most famous and largest floating market in Vietnam and the only Southeast Asian representative featuring in the world’s 19 must-visit food hubs.\\nThe market is only open in the early morning from 5 – 9 a.m. Hundreds of traders in their boats gather to buy fresh vegetables and fruits, breakfast, handicrafts and daily essential household goods, creating a bustling and joyful atmosphere. If you want to see the market, you can rent a sightseeing boat which costs around 300,000 – 500,000 VND.\\nPhong Dien Floating Market\\nLocation: Provincial Road 923, Nhon Loc Hamlet, Nhon Ai Commune, Phong Dien District, Can Tho City\\nSituated at a confluence and 17 kilometers away from the center of Can Tho City, Phong Dien Floating Market is a smaller and more local-style market. The market is most crowded from 5.30 – 7.30 a.m and offers a variety of fresh fruits, vegetables, household goods, working equipment, etc. When you come to this market, don’t forget to try many delicious local dishes being sold right on the boats such as noodle soup, rice soup and coffee.\\nNinh Kieu Wharf\\nLocation: Hai Ba Trung Street, Tan An Ward, Ninh Kieu District, Can Tho City\\nLocated on the right bank of Hau River, at the confluence of Hau River and Can Tho River, Ninh Kieu Wharf is a tourist attraction and a symbol of Can Tho City. Established in the 19th century, it has long been developed into Ninh Kieu Park with an area of 7000 square meters.Inside the park, trees are trimmed carefully and green grass grows under the white bricks. Sitting in the park, you can enjoy the pure air and fresh breeze that bring a sense of refreshment. The park is even more stunning and charming at night because of the lighting system.\\n\\n3.4. Fruit Garden\\nThe land of Can Tho is bestowed with fertile soil, making it suitable for local people to plant and grow fruit gardens during the year. If you visit Can Tho Bridge\\nCan Tho Bridge is the longest cable-stayed bridge in Southeast Asia and one of the ten longest bridges in the world. Crossing Hau River and connecting Can Tho and Vinh Long Province, the bridge is 15,850 meters long and 23 meters wide.\\n\\nCan Tho Vietnam\\nCan Tho Bridge is the longest cable-stayed bridge in Southeast Asia (Source: Collected)\\nThe bridge is designed with an inverted Y-shaped pillar structure containing 216 strands of cables. If you look at the bridge from afar, it has a tranquil and romantic beauty, and it is even more shimmering at night when the lighting system runs the length of the bridge.\\n\\nCan Tho Vietnam\\nA romantic beauty of Can Tho Bridge (Source: Collected) \\n3.6. Bang Lang Stork Sanctuary\\nLocation: Thoi An, Thuan An Ward, Thot Not District, Can Tho City\\nSituated 60 kilometers away from the city center, Bang Lang Stork Sanctuary is a destination where you can contemplate the diversity of birds. The sanctuary is home to 20 different species of storks and a total of 300,000 storks. It has an area of 16,500 square meters, serving tourism needs and protecting biodiversity.\\n\\nCan Tho Vietnam\\nBang Lang Stork Sanctuary is home to 20 species of storks (Source: Collected)\\n3.7. Binh Thuy Ancient House\\nLocation: 144 Bui Huu Nghia Street, Binh Thuy Ward, Binh Thuy District, Can Tho City\\nBuilt in 1870, Binh Thuy Ancient House is one of the most beautiful old houses in the Mekong Delta region. With modern French architecture, the house is a harmonious combination of Eastern and Western culture, creating a classical and traditional beauty.\\n\\nCan Tho Vietnam\\nBinh Thuy Ancient House has an impressive architecture (Source: Collected)\\nThe highlight of Binh Thuy Ancient House is the collection of artifacts that have been preserved for generations such as the Louis 15 French-style woven cloth, the 15th century white lanterns, the teacups from the Ming-Thanh dynasty, etc. Due to its unique architecture and historical value, it was designated as a National Architectural and artistic monument in 2009.\\n\\nCan Tho Vietnam\\nThe ancient house preserves a valuable artifact collection (Source: Collected)\\nArticles for you:\\n\\nAn insider’s guide to Cai Rang Floating Market in Can Tho\\nNinh Kieu Wharf - A place to keep wonderful memories of Can Tho\\nBinh Thuy ancient house: A national heritage site for architect arts\\n3.8. Ong Pagoda\\nLocation: 32 Hai Ba Trung, Tan An Ward, Ninh Kieu District, Can Tho City\\nOng Pagoda, which was built in 1894, was originally called Quang Trieu Hoi Quan. With a history of over 120 years, the pagoda still preserves the beauty of its colorful Chinese-style architecture. Its structure resembles the letter “Quoc”, while the exterior is painted with sophisticated decorations. As a famous spiritual site, Ong Pagoda was recognized as a National Historic – Cultural Heritage Site in 1993.\\n\\nCan Tho Vietnam\\nOng Pagoda highlights Chinese-style architecture (Source: Collected)\\n3.9. My Khanh Tourist Village\\nLocation: 335 Lo Vong Cung, Nhon My Hamlet, My Khanh Commune, Phong Dien District, Can Tho City\\nWith an area of over 50,000 square meters, My Khanh Tourist Village is home to an orchard with more than 20 species of plants, many fish ponds and canals. Besides, a prominent feature of the village is the 100-year-old ancient houses with traditional Vietnamese-style architecture. Visiting this place, visitors can savor many local specialties, watch Don Ca Tai Tu performances and animal races or taste fresh fruits.\\n\\nCan Tho Vietnam\\nWatch a dog race at My Khanh Tourist Village (Source: Collected)\\nCan Tho Vietnam\\nA 100-year-old ancient house (Source: Collected)\\nanh khong gian phong\\nicon prev\\nicon next\\nVinpearl Beachfront Nha Trang\\n78 – 80 Tran Phu Street, Loc Tho Ward, Nha Trang city, Khanh Hoa Province\\n\\nStandard rate63 USD\\nMember's rate57 USD\\n/night\\nBook now\\n4. What to eat in Can Tho, Vietnam?\\nTraveling to Can Tho, you should not miss out on many delicious local specialties. Below are some famous dishes suggested for you.\\n\\nPhong Dien Fine Rice Vermicelli (Banh hoi Phong Dien)\\nPhong Dien Fine Rice Vermicelli consists of rice vermicelli woven into intricate bundles, topped with chopped scallions and wrapped with grilled pork and fresh vegetables. The flavor of the dish is even more excellent when you dip the wrap in fish sauce. Coming to Can Tho, you should try this dish at Ut Dzach Fine Rice Vermicelli, 509 Provincial Road 61B, Nhon Binh Hamlet, Nhon Ai Commune, Phong Dien District at a price of 20,000 – 50,000 VND.\\n\\nCan Tho Vietnam\\nPhong Dien Fine Rice Vermicelli - a must-try local dish (Source: Collected)\\nFish sauce hot pot\\nFish sauce hot pot is a unique dish in the Southwest of Vietnam with more than 40 kinds of vegetables, fresh seafood and meat as ingredients. The sauce is made from fish sauce, creating a rich and alluring flavor. Traveling to Can Tho, you can enjoy this dish at Da Ly Fish Sauce Hot Pot, 89 3/2 Street, Ninh Kieu District. The price is around 100,000 – 220,000 VND.\\n\\nCan Tho Vietnam\\nFish sauce hot pot is a typical dish of Can Tho (Source: Collected)\\nCan Tho pancake\\nInside the golden crispy and greasy crust is full of meat and shrimps. The pancake will be wrapped with raw vegetables and dipped in fish sauce, creating an unforgettable flavor for visitors. Muoi Xiem Pancake at 13/3 Nguyen Chi Thanh Street, Tra Noc Ward, Binh Thuy is a recommended shop for you with the price varying from 40,000 – 150,000 VND.\\n\\nCan Tho Vietnam\\nCan Tho pancake has an unforgettable flavor (Source: Collected)\\nGrilled Snakehead Fish\\nThe cook will use a skewer to spear the fish’s mouth, then stick it in the ground, cover it with straw and burn it until the straw is burned out. When the fish is well done, it is put on a banana leaf and has all the burnt parts removed. You will enjoy the fish with onion fat, peanuts, rice paper, fresh vegetables and fish sauce. Coc Son, a tourist destination, is famous for its delicious grilled snakehead fish, thus you can come and try this dish there.\\n\\nCan Tho Vietnam\\nGrilled snakehead fish has a rich flavor (Source: Collected)\\nFried Shrimp Cake\\nA fried shrimp cake is made by putting pork, shrimp and green peas in a crispy crust. The cake tastes better when you enjoy it with fresh vegetables and sweet fish sauce. Co Ut Fried Shrimp Cake, 86/38 Ly Tu Trong Street, An Cu Ward, Ninh Kieu District is a shop suggested for you. The price is around 10,000 – 30,000 VND.\\n\\nCan Tho Vietnam\\nA fried shrimp cake has a crispy and greasy crust (Source: Collected)\\nCan Tho during the season of fruit ripening, you can enjoy many fresh fruits right at the orchards. Below are some popular orchards recommended for you.\\n\\nPhong Dien Orchard: Phong Dien District, Can Tho City\\nMy Khanh Orchard: 335 Lo Vong Cung, My Khanh Commune, Phong Dien District, Can Tho City\\nRach Ke Orchard: 396A My Nhon, My Khanh Commune, Phong Dien District, Can Tho City\"}]}\n",
      "{'messages': [{'role': 'system', 'content': 'You are an expert in providing travel assistance for Can Tho. Your role is to offer detailed information, tips, and guidance to travelers interested in exploring Can Tho, Vietnam. You provide insights into the best places to visit, local cuisine, cultural highlights, and practical travel advice to ensure visitors have a memorable and smooth experience in Can Tho.'}, {'role': 'user', 'content': 'Question: How to get to Can Tho City, Vietnam?\\n'}, {'role': 'assistant', 'content': \"As an important industrial center of the Mekong Delta region, Can Tho, Vietnam has a convenient system of transportation. Depending on your departure location, you can choose to travel to Can Tho by the following means of transportation:\\n\\nFrom Hanoi to Can Tho\\nTraveling by airplane is the best way to save time, since many of Vietnam's major airlines such as Vietnam Airlines, Vietjet or Bamboo Airways have direct flights from Hanoi to Can Tho. The airplane ticket price varies from 800,000 – 2,500,000 VND/person depending on your seat class and the airline. You should book the ticket as soon as possible to get a low price.\\n\\nIf you want to travel by train, it takes 30 hours to go from Hanoi to Ho Chi Minh City, then you have to catch a bus from Ho Chi Minh City to Can Tho. Another option is traveling by express bus from Hanoi to Can Tho which costs around 800,000 – 1,000,000 VND/person, but it takes a lot of time.\\n\\n From Ho Chi Minh city to Can Tho\\nIt takes an average of 3-4 hours to travel by express bus from Ho Chi Minh City to Can Tho. You can buy a ticket at Mien Dong Bus Station which costs around 130,000 – 150,000 VND/person. Mai Linh, Hoang Long, Phuong Trang are some prestigious express buses recommended for you.\\n\\nCan Tho is 165 kilometers away from Ho Chi Minh City, thus tourists can choose to travel by motorbike or private car. It takes 3.5 – 4 hours to travel from Ho Chi Minh City to Can Tho, and you must check the route carefully before traveling.\"}]}\n",
      "{'messages': [{'role': 'system', 'content': 'You are an expert in providing travel assistance for Can Tho. Your role is to offer detailed information, tips, and guidance to travelers interested in exploring Can Tho, Vietnam. You provide insights into the best places to visit, local cuisine, cultural highlights, and practical travel advice to ensure visitors have a memorable and smooth experience in Can Tho.'}, {'role': 'user', 'content': 'Question: Where to stay in Can Tho City?'}, {'role': 'assistant', 'content': 'Depending on preferences and budgets, visitors can choose to stay in a hotel, homestay or resort. When choosing, think about whether the accommodation has a favorable geographical position, making it convenient for you to get to many famous destinations such as Ninh Kieu Wharf, Ong Pagoda, Binh Thuy Ancient House, Cai Rang Floating Market, etc. Your chosen accommodation should also have diverse facilities, such as an outdoor swimming pool, a bar, yoga, gym, massage and treatment services, etc. Built-in restaurants serving local specialties such as pancake, fish sauce hot pot, etc., are also good to have.'}]}\n"
     ]
    }
   ],
   "source": [
    "# use the first 100 rows of the dataset for training\n",
    "training_df = recipe_df.loc[0:10]\n",
    "\n",
    "# apply the prepare_example_conversation function to each row of the training_df\n",
    "training_data = training_df.apply(prepare_example_conversation, axis=1).tolist()\n",
    "\n",
    "for example in training_data[:5]:\n",
    "    print(example)"
   ]
  },
  {
   "cell_type": "code",
   "execution_count": 65,
   "metadata": {},
   "outputs": [],
   "source": [
    "validation_df = recipe_df.loc[11:]\n",
    "validation_data = validation_df.apply(prepare_example_conversation, axis=1).tolist()"
   ]
  },
  {
   "cell_type": "code",
   "execution_count": 66,
   "metadata": {},
   "outputs": [],
   "source": [
    "import json\n",
    "import openai\n",
    "import os\n",
    "import pandas as pd\n",
    "from pprint import pprint\n",
    "\n",
    "def write_jsonl(data_list: list, filename: str) -> None:\n",
    "    with open(filename, \"w\") as out:\n",
    "        for ddict in data_list:\n",
    "            jout = json.dumps(ddict) + \"\\n\"\n",
    "            out.write(jout)"
   ]
  },
  {
   "cell_type": "code",
   "execution_count": 67,
   "metadata": {},
   "outputs": [],
   "source": [
    "training_file_name = \"cantho_tourist_attraction_finetune_training.jsonl\"\n",
    "write_jsonl(training_data, training_file_name)\n",
    "\n",
    "validation_file_name = \"cantho_tourist_attraction_finetune_validation.jsonl\"\n",
    "write_jsonl(validation_data, validation_file_name)"
   ]
  },
  {
   "cell_type": "code",
   "execution_count": null,
   "metadata": {},
   "outputs": [],
   "source": [
    "# print the first 5 lines of the training file\n",
    "!head -n 5 cantho_tourist_attraction_finetune_training.jsonl"
   ]
  },
  {
   "cell_type": "code",
   "execution_count": 69,
   "metadata": {},
   "outputs": [
    {
     "name": "stdout",
     "output_type": "stream",
     "text": [
      "Training file ID: file-T5WeuRkkCJs46Z5qswYUCilF\n",
      "Validation file ID: file-k5BRWBjLFVIs1JEAPDpVRMo3\n"
     ]
    }
   ],
   "source": [
    "with open(training_file_name, \"rb\") as training_fd:\n",
    "    training_response = client.files.create(\n",
    "        file=training_fd, purpose=\"fine-tune\"\n",
    "    )\n",
    "\n",
    "training_file_id = training_response.id\n",
    "\n",
    "with open(validation_file_name, \"rb\") as validation_fd:\n",
    "    validation_response = client.files.create(\n",
    "        file=validation_fd, purpose=\"fine-tune\"\n",
    "    )\n",
    "validation_file_id = validation_response.id\n",
    "\n",
    "print(\"Training file ID:\", training_file_id)\n",
    "print(\"Validation file ID:\", validation_file_id)"
   ]
  },
  {
   "cell_type": "code",
   "execution_count": 70,
   "metadata": {},
   "outputs": [
    {
     "name": "stdout",
     "output_type": "stream",
     "text": [
      "Job ID: ftjob-vDHXWjsLvEra6IQRra9XqpLL\n",
      "Status: validating_files\n"
     ]
    }
   ],
   "source": [
    "response = client.fine_tuning.jobs.create(\n",
    "    training_file=training_file_id,\n",
    "    validation_file=validation_file_id,\n",
    "    model=\"gpt-3.5-turbo\",\n",
    "    suffix=\"cantho_tourist\",\n",
    "    # hyperparameters={\n",
    "    #     \"learning_rate\": 1e-4,\n",
    "    #     \"batch_size\": 4,\n",
    "    #     \"num_epochs\": 3\n",
    "    # }\n",
    ")\n",
    "\n",
    "job_id = response.id\n",
    "\n",
    "print(\"Job ID:\", response.id)\n",
    "print(\"Status:\", response.status)"
   ]
  },
  {
   "cell_type": "code",
   "execution_count": 71,
   "metadata": {},
   "outputs": [
    {
     "name": "stdout",
     "output_type": "stream",
     "text": [
      "Job ID: ftjob-vDHXWjsLvEra6IQRra9XqpLL\n",
      "Status: validating_files\n",
      "Trained Tokens: None\n"
     ]
    }
   ],
   "source": [
    "response = client.fine_tuning.jobs.retrieve(job_id)\n",
    "\n",
    "print(\"Job ID:\", response.id)\n",
    "print(\"Status:\", response.status)\n",
    "print(\"Trained Tokens:\", response.trained_tokens)"
   ]
  },
  {
   "cell_type": "code",
   "execution_count": 72,
   "metadata": {},
   "outputs": [
    {
     "name": "stdout",
     "output_type": "stream",
     "text": [
      "Created fine-tuning job: ftjob-vDHXWjsLvEra6IQRra9XqpLL\n",
      "Validating training file: file-T5WeuRkkCJs46Z5qswYUCilF and validation file: file-k5BRWBjLFVIs1JEAPDpVRMo3\n"
     ]
    }
   ],
   "source": [
    "response = client.fine_tuning.jobs.list_events(job_id)\n",
    "\n",
    "events = response.data\n",
    "events.reverse()\n",
    "\n",
    "for event in events:\n",
    "    print(event.message)"
   ]
  },
  {
   "cell_type": "code",
   "execution_count": 73,
   "metadata": {},
   "outputs": [
    {
     "name": "stdout",
     "output_type": "stream",
     "text": [
      "[{'role': 'system', 'content': 'You are an expert in providing travel assistance for Can Tho. Your role is to offer detailed information, tips, and guidance to travelers interested in exploring Can Tho, Vietnam. You provide insights into the best places to visit, local cuisine, cultural highlights, and practical travel advice to ensure visitors have a memorable and smooth experience in Can Tho.'}, {'role': 'user', 'content': 'Question: new landmark for Can Tho City, the Mekong Delta Tower.'}]\n",
      "magine a new landmark for Can Tho City, the Mekong Delta Tower. Designed to reflect the flowing waters and vibrant culture of the Mekong Delta, this modern marvel would stand tall at 350 meters, making it a standout feature in the cityscape. Its structure would mimic the sinuous curves of a river, crafted from glass and steel that shimmer like the surface of the water under the sun.\n",
      "\n",
      "The Mekong Delta Tower would feature multiple levels accessible by both stairs and panoramic elevators. The lower levels would host a variety of local markets and cultural spaces, representing the rich heritage of Can Tho, while the middle levels would house exquisite restaurants and cafes offering traditional Vietnamese cuisine with a modern twist.\n",
      "\n",
      "At the very top, an observation deck would offer unrivaled views of Can Tho City and the sprawling delta beyond. This deck would be a prime spot for both locals and tourists to soak in the breathtaking scenery. By night, the tower would be lit up by eco-friendly LED lights, designed to reflect the vibrant energy of Can Tho and serve as a beacon of innovation and culture in the heart of the Mekong Delta.\n"
     ]
    }
   ],
   "source": [
    "test_df = recipe_df.loc[6:]\n",
    "test_row = test_df.iloc[0]\n",
    "test_messages = []\n",
    "test_messages.append({\"role\": \"system\", \"content\": system_message})\n",
    "user_message = create_user_message(test_row)\n",
    "test_messages.append({\"role\": \"user\", \"content\": user_message})\n",
    "\n",
    "print(test_messages)\n",
    "print(test_row[\"Answer\"])"
   ]
  },
  {
   "cell_type": "code",
   "execution_count": 74,
   "metadata": {},
   "outputs": [
    {
     "ename": "BadRequestError",
     "evalue": "Error code: 400 - {'error': {'message': 'you must provide a model parameter', 'type': 'invalid_request_error', 'param': None, 'code': None}}",
     "output_type": "error",
     "traceback": [
      "\u001b[0;31m---------------------------------------------------------------------------\u001b[0m",
      "\u001b[0;31mBadRequestError\u001b[0m                           Traceback (most recent call last)",
      "Cell \u001b[0;32mIn[74], line 1\u001b[0m\n\u001b[0;32m----> 1\u001b[0m response \u001b[38;5;241m=\u001b[39m client\u001b[38;5;241m.\u001b[39mchat\u001b[38;5;241m.\u001b[39mcompletions\u001b[38;5;241m.\u001b[39mcreate(\n\u001b[1;32m      2\u001b[0m     model\u001b[38;5;241m=\u001b[39m\u001b[38;5;124m\"\u001b[39m\u001b[38;5;124m\"\u001b[39m, messages\u001b[38;5;241m=\u001b[39mtest_messages, temperature\u001b[38;5;241m=\u001b[39m\u001b[38;5;241m0\u001b[39m, max_tokens\u001b[38;5;241m=\u001b[39m\u001b[38;5;241m500\u001b[39m\n\u001b[1;32m      3\u001b[0m )\n\u001b[1;32m      4\u001b[0m \u001b[38;5;28mprint\u001b[39m(response\u001b[38;5;241m.\u001b[39mchoices[\u001b[38;5;241m0\u001b[39m]\u001b[38;5;241m.\u001b[39mmessage\u001b[38;5;241m.\u001b[39mcontent)\n",
      "File \u001b[0;32m~/anaconda3/lib/python3.11/site-packages/openai/_utils/_utils.py:275\u001b[0m, in \u001b[0;36mrequired_args.<locals>.inner.<locals>.wrapper\u001b[0;34m(*args, **kwargs)\u001b[0m\n\u001b[1;32m    273\u001b[0m             msg \u001b[38;5;241m=\u001b[39m \u001b[38;5;124mf\u001b[39m\u001b[38;5;124m\"\u001b[39m\u001b[38;5;124mMissing required argument: \u001b[39m\u001b[38;5;132;01m{\u001b[39;00mquote(missing[\u001b[38;5;241m0\u001b[39m])\u001b[38;5;132;01m}\u001b[39;00m\u001b[38;5;124m\"\u001b[39m\n\u001b[1;32m    274\u001b[0m     \u001b[38;5;28;01mraise\u001b[39;00m \u001b[38;5;167;01mTypeError\u001b[39;00m(msg)\n\u001b[0;32m--> 275\u001b[0m \u001b[38;5;28;01mreturn\u001b[39;00m func(\u001b[38;5;241m*\u001b[39margs, \u001b[38;5;241m*\u001b[39m\u001b[38;5;241m*\u001b[39mkwargs)\n",
      "File \u001b[0;32m~/anaconda3/lib/python3.11/site-packages/openai/resources/chat/completions.py:667\u001b[0m, in \u001b[0;36mCompletions.create\u001b[0;34m(self, messages, model, frequency_penalty, function_call, functions, logit_bias, logprobs, max_tokens, n, presence_penalty, response_format, seed, stop, stream, temperature, tool_choice, tools, top_logprobs, top_p, user, extra_headers, extra_query, extra_body, timeout)\u001b[0m\n\u001b[1;32m    615\u001b[0m \u001b[38;5;129m@required_args\u001b[39m([\u001b[38;5;124m\"\u001b[39m\u001b[38;5;124mmessages\u001b[39m\u001b[38;5;124m\"\u001b[39m, \u001b[38;5;124m\"\u001b[39m\u001b[38;5;124mmodel\u001b[39m\u001b[38;5;124m\"\u001b[39m], [\u001b[38;5;124m\"\u001b[39m\u001b[38;5;124mmessages\u001b[39m\u001b[38;5;124m\"\u001b[39m, \u001b[38;5;124m\"\u001b[39m\u001b[38;5;124mmodel\u001b[39m\u001b[38;5;124m\"\u001b[39m, \u001b[38;5;124m\"\u001b[39m\u001b[38;5;124mstream\u001b[39m\u001b[38;5;124m\"\u001b[39m])\n\u001b[1;32m    616\u001b[0m \u001b[38;5;28;01mdef\u001b[39;00m \u001b[38;5;21mcreate\u001b[39m(\n\u001b[1;32m    617\u001b[0m     \u001b[38;5;28mself\u001b[39m,\n\u001b[0;32m   (...)\u001b[0m\n\u001b[1;32m    665\u001b[0m     timeout: \u001b[38;5;28mfloat\u001b[39m \u001b[38;5;241m|\u001b[39m httpx\u001b[38;5;241m.\u001b[39mTimeout \u001b[38;5;241m|\u001b[39m \u001b[38;5;28;01mNone\u001b[39;00m \u001b[38;5;241m|\u001b[39m NotGiven \u001b[38;5;241m=\u001b[39m NOT_GIVEN,\n\u001b[1;32m    666\u001b[0m ) \u001b[38;5;241m-\u001b[39m\u001b[38;5;241m>\u001b[39m ChatCompletion \u001b[38;5;241m|\u001b[39m Stream[ChatCompletionChunk]:\n\u001b[0;32m--> 667\u001b[0m     \u001b[38;5;28;01mreturn\u001b[39;00m \u001b[38;5;28mself\u001b[39m\u001b[38;5;241m.\u001b[39m_post(\n\u001b[1;32m    668\u001b[0m         \u001b[38;5;124m\"\u001b[39m\u001b[38;5;124m/chat/completions\u001b[39m\u001b[38;5;124m\"\u001b[39m,\n\u001b[1;32m    669\u001b[0m         body\u001b[38;5;241m=\u001b[39mmaybe_transform(\n\u001b[1;32m    670\u001b[0m             {\n\u001b[1;32m    671\u001b[0m                 \u001b[38;5;124m\"\u001b[39m\u001b[38;5;124mmessages\u001b[39m\u001b[38;5;124m\"\u001b[39m: messages,\n\u001b[1;32m    672\u001b[0m                 \u001b[38;5;124m\"\u001b[39m\u001b[38;5;124mmodel\u001b[39m\u001b[38;5;124m\"\u001b[39m: model,\n\u001b[1;32m    673\u001b[0m                 \u001b[38;5;124m\"\u001b[39m\u001b[38;5;124mfrequency_penalty\u001b[39m\u001b[38;5;124m\"\u001b[39m: frequency_penalty,\n\u001b[1;32m    674\u001b[0m                 \u001b[38;5;124m\"\u001b[39m\u001b[38;5;124mfunction_call\u001b[39m\u001b[38;5;124m\"\u001b[39m: function_call,\n\u001b[1;32m    675\u001b[0m                 \u001b[38;5;124m\"\u001b[39m\u001b[38;5;124mfunctions\u001b[39m\u001b[38;5;124m\"\u001b[39m: functions,\n\u001b[1;32m    676\u001b[0m                 \u001b[38;5;124m\"\u001b[39m\u001b[38;5;124mlogit_bias\u001b[39m\u001b[38;5;124m\"\u001b[39m: logit_bias,\n\u001b[1;32m    677\u001b[0m                 \u001b[38;5;124m\"\u001b[39m\u001b[38;5;124mlogprobs\u001b[39m\u001b[38;5;124m\"\u001b[39m: logprobs,\n\u001b[1;32m    678\u001b[0m                 \u001b[38;5;124m\"\u001b[39m\u001b[38;5;124mmax_tokens\u001b[39m\u001b[38;5;124m\"\u001b[39m: max_tokens,\n\u001b[1;32m    679\u001b[0m                 \u001b[38;5;124m\"\u001b[39m\u001b[38;5;124mn\u001b[39m\u001b[38;5;124m\"\u001b[39m: n,\n\u001b[1;32m    680\u001b[0m                 \u001b[38;5;124m\"\u001b[39m\u001b[38;5;124mpresence_penalty\u001b[39m\u001b[38;5;124m\"\u001b[39m: presence_penalty,\n\u001b[1;32m    681\u001b[0m                 \u001b[38;5;124m\"\u001b[39m\u001b[38;5;124mresponse_format\u001b[39m\u001b[38;5;124m\"\u001b[39m: response_format,\n\u001b[1;32m    682\u001b[0m                 \u001b[38;5;124m\"\u001b[39m\u001b[38;5;124mseed\u001b[39m\u001b[38;5;124m\"\u001b[39m: seed,\n\u001b[1;32m    683\u001b[0m                 \u001b[38;5;124m\"\u001b[39m\u001b[38;5;124mstop\u001b[39m\u001b[38;5;124m\"\u001b[39m: stop,\n\u001b[1;32m    684\u001b[0m                 \u001b[38;5;124m\"\u001b[39m\u001b[38;5;124mstream\u001b[39m\u001b[38;5;124m\"\u001b[39m: stream,\n\u001b[1;32m    685\u001b[0m                 \u001b[38;5;124m\"\u001b[39m\u001b[38;5;124mtemperature\u001b[39m\u001b[38;5;124m\"\u001b[39m: temperature,\n\u001b[1;32m    686\u001b[0m                 \u001b[38;5;124m\"\u001b[39m\u001b[38;5;124mtool_choice\u001b[39m\u001b[38;5;124m\"\u001b[39m: tool_choice,\n\u001b[1;32m    687\u001b[0m                 \u001b[38;5;124m\"\u001b[39m\u001b[38;5;124mtools\u001b[39m\u001b[38;5;124m\"\u001b[39m: tools,\n\u001b[1;32m    688\u001b[0m                 \u001b[38;5;124m\"\u001b[39m\u001b[38;5;124mtop_logprobs\u001b[39m\u001b[38;5;124m\"\u001b[39m: top_logprobs,\n\u001b[1;32m    689\u001b[0m                 \u001b[38;5;124m\"\u001b[39m\u001b[38;5;124mtop_p\u001b[39m\u001b[38;5;124m\"\u001b[39m: top_p,\n\u001b[1;32m    690\u001b[0m                 \u001b[38;5;124m\"\u001b[39m\u001b[38;5;124muser\u001b[39m\u001b[38;5;124m\"\u001b[39m: user,\n\u001b[1;32m    691\u001b[0m             },\n\u001b[1;32m    692\u001b[0m             completion_create_params\u001b[38;5;241m.\u001b[39mCompletionCreateParams,\n\u001b[1;32m    693\u001b[0m         ),\n\u001b[1;32m    694\u001b[0m         options\u001b[38;5;241m=\u001b[39mmake_request_options(\n\u001b[1;32m    695\u001b[0m             extra_headers\u001b[38;5;241m=\u001b[39mextra_headers, extra_query\u001b[38;5;241m=\u001b[39mextra_query, extra_body\u001b[38;5;241m=\u001b[39mextra_body, timeout\u001b[38;5;241m=\u001b[39mtimeout\n\u001b[1;32m    696\u001b[0m         ),\n\u001b[1;32m    697\u001b[0m         cast_to\u001b[38;5;241m=\u001b[39mChatCompletion,\n\u001b[1;32m    698\u001b[0m         stream\u001b[38;5;241m=\u001b[39mstream \u001b[38;5;129;01mor\u001b[39;00m \u001b[38;5;28;01mFalse\u001b[39;00m,\n\u001b[1;32m    699\u001b[0m         stream_cls\u001b[38;5;241m=\u001b[39mStream[ChatCompletionChunk],\n\u001b[1;32m    700\u001b[0m     )\n",
      "File \u001b[0;32m~/anaconda3/lib/python3.11/site-packages/openai/_base_client.py:1208\u001b[0m, in \u001b[0;36mSyncAPIClient.post\u001b[0;34m(self, path, cast_to, body, options, files, stream, stream_cls)\u001b[0m\n\u001b[1;32m   1194\u001b[0m \u001b[38;5;28;01mdef\u001b[39;00m \u001b[38;5;21mpost\u001b[39m(\n\u001b[1;32m   1195\u001b[0m     \u001b[38;5;28mself\u001b[39m,\n\u001b[1;32m   1196\u001b[0m     path: \u001b[38;5;28mstr\u001b[39m,\n\u001b[0;32m   (...)\u001b[0m\n\u001b[1;32m   1203\u001b[0m     stream_cls: \u001b[38;5;28mtype\u001b[39m[_StreamT] \u001b[38;5;241m|\u001b[39m \u001b[38;5;28;01mNone\u001b[39;00m \u001b[38;5;241m=\u001b[39m \u001b[38;5;28;01mNone\u001b[39;00m,\n\u001b[1;32m   1204\u001b[0m ) \u001b[38;5;241m-\u001b[39m\u001b[38;5;241m>\u001b[39m ResponseT \u001b[38;5;241m|\u001b[39m _StreamT:\n\u001b[1;32m   1205\u001b[0m     opts \u001b[38;5;241m=\u001b[39m FinalRequestOptions\u001b[38;5;241m.\u001b[39mconstruct(\n\u001b[1;32m   1206\u001b[0m         method\u001b[38;5;241m=\u001b[39m\u001b[38;5;124m\"\u001b[39m\u001b[38;5;124mpost\u001b[39m\u001b[38;5;124m\"\u001b[39m, url\u001b[38;5;241m=\u001b[39mpath, json_data\u001b[38;5;241m=\u001b[39mbody, files\u001b[38;5;241m=\u001b[39mto_httpx_files(files), \u001b[38;5;241m*\u001b[39m\u001b[38;5;241m*\u001b[39moptions\n\u001b[1;32m   1207\u001b[0m     )\n\u001b[0;32m-> 1208\u001b[0m     \u001b[38;5;28;01mreturn\u001b[39;00m cast(ResponseT, \u001b[38;5;28mself\u001b[39m\u001b[38;5;241m.\u001b[39mrequest(cast_to, opts, stream\u001b[38;5;241m=\u001b[39mstream, stream_cls\u001b[38;5;241m=\u001b[39mstream_cls))\n",
      "File \u001b[0;32m~/anaconda3/lib/python3.11/site-packages/openai/_base_client.py:897\u001b[0m, in \u001b[0;36mSyncAPIClient.request\u001b[0;34m(self, cast_to, options, remaining_retries, stream, stream_cls)\u001b[0m\n\u001b[1;32m    888\u001b[0m \u001b[38;5;28;01mdef\u001b[39;00m \u001b[38;5;21mrequest\u001b[39m(\n\u001b[1;32m    889\u001b[0m     \u001b[38;5;28mself\u001b[39m,\n\u001b[1;32m    890\u001b[0m     cast_to: Type[ResponseT],\n\u001b[0;32m   (...)\u001b[0m\n\u001b[1;32m    895\u001b[0m     stream_cls: \u001b[38;5;28mtype\u001b[39m[_StreamT] \u001b[38;5;241m|\u001b[39m \u001b[38;5;28;01mNone\u001b[39;00m \u001b[38;5;241m=\u001b[39m \u001b[38;5;28;01mNone\u001b[39;00m,\n\u001b[1;32m    896\u001b[0m ) \u001b[38;5;241m-\u001b[39m\u001b[38;5;241m>\u001b[39m ResponseT \u001b[38;5;241m|\u001b[39m _StreamT:\n\u001b[0;32m--> 897\u001b[0m     \u001b[38;5;28;01mreturn\u001b[39;00m \u001b[38;5;28mself\u001b[39m\u001b[38;5;241m.\u001b[39m_request(\n\u001b[1;32m    898\u001b[0m         cast_to\u001b[38;5;241m=\u001b[39mcast_to,\n\u001b[1;32m    899\u001b[0m         options\u001b[38;5;241m=\u001b[39moptions,\n\u001b[1;32m    900\u001b[0m         stream\u001b[38;5;241m=\u001b[39mstream,\n\u001b[1;32m    901\u001b[0m         stream_cls\u001b[38;5;241m=\u001b[39mstream_cls,\n\u001b[1;32m    902\u001b[0m         remaining_retries\u001b[38;5;241m=\u001b[39mremaining_retries,\n\u001b[1;32m    903\u001b[0m     )\n",
      "File \u001b[0;32m~/anaconda3/lib/python3.11/site-packages/openai/_base_client.py:988\u001b[0m, in \u001b[0;36mSyncAPIClient._request\u001b[0;34m(self, cast_to, options, remaining_retries, stream, stream_cls)\u001b[0m\n\u001b[1;32m    985\u001b[0m         err\u001b[38;5;241m.\u001b[39mresponse\u001b[38;5;241m.\u001b[39mread()\n\u001b[1;32m    987\u001b[0m     log\u001b[38;5;241m.\u001b[39mdebug(\u001b[38;5;124m\"\u001b[39m\u001b[38;5;124mRe-raising status error\u001b[39m\u001b[38;5;124m\"\u001b[39m)\n\u001b[0;32m--> 988\u001b[0m     \u001b[38;5;28;01mraise\u001b[39;00m \u001b[38;5;28mself\u001b[39m\u001b[38;5;241m.\u001b[39m_make_status_error_from_response(err\u001b[38;5;241m.\u001b[39mresponse) \u001b[38;5;28;01mfrom\u001b[39;00m \u001b[38;5;28;01mNone\u001b[39;00m\n\u001b[1;32m    990\u001b[0m \u001b[38;5;28;01mreturn\u001b[39;00m \u001b[38;5;28mself\u001b[39m\u001b[38;5;241m.\u001b[39m_process_response(\n\u001b[1;32m    991\u001b[0m     cast_to\u001b[38;5;241m=\u001b[39mcast_to,\n\u001b[1;32m    992\u001b[0m     options\u001b[38;5;241m=\u001b[39moptions,\n\u001b[0;32m   (...)\u001b[0m\n\u001b[1;32m    995\u001b[0m     stream_cls\u001b[38;5;241m=\u001b[39mstream_cls,\n\u001b[1;32m    996\u001b[0m )\n",
      "\u001b[0;31mBadRequestError\u001b[0m: Error code: 400 - {'error': {'message': 'you must provide a model parameter', 'type': 'invalid_request_error', 'param': None, 'code': None}}"
     ]
    }
   ],
   "source": [
    "response = client.chat.completions.create(\n",
    "    model=\"ft:gpt-3.5-turbo-0125:personal:recipe-ner:9Lnbj8iK\", messages=test_messages, temperature=0, max_tokens=500\n",
    ")\n",
    "print(response.choices[0].message.content)"
   ]
  },
  {
   "cell_type": "code",
   "execution_count": null,
   "metadata": {},
   "outputs": [],
   "source": []
  }
 ],
 "metadata": {
  "kernelspec": {
   "display_name": "Python 3",
   "language": "python",
   "name": "python3"
  },
  "language_info": {
   "codemirror_mode": {
    "name": "ipython",
    "version": 3
   },
   "file_extension": ".py",
   "mimetype": "text/x-python",
   "name": "python",
   "nbconvert_exporter": "python",
   "pygments_lexer": "ipython3",
   "version": "3.11.5"
  }
 },
 "nbformat": 4,
 "nbformat_minor": 2
}
